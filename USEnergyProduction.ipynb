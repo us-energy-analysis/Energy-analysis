{
 "cells": [
  {
   "cell_type": "code",
   "execution_count": 1,
   "metadata": {},
   "outputs": [],
   "source": [
    "import requests\n",
    "import json\n",
    "import pandas as pd\n",
    "import matplotlib.pyplot as plt\n",
    "from config import api_key "
   ]
  },
  {
   "cell_type": "code",
   "execution_count": 2,
   "metadata": {},
   "outputs": [],
   "source": [
    "electric_generation_urls = []\n",
    "\n",
    "electric_generation_urls.append(\"http://api.eia.gov/series/?api_key=\" + api_key + \"&series_id=STEO.CLTO_US.A\") #Coal_generation_url\n",
    "electric_generation_urls.append(\"http://api.eia.gov/series/?api_key=\" + api_key + \"&series_id=STEO.HVTO_US.A\") #Hydropower_url\n",
    "electric_generation_urls.append(\"http://api.eia.gov/series/?api_key=\" + api_key + \"&series_id=STEO.NGTO_US.A\") #Natural_gas_url \n",
    "electric_generation_urls.append(\"http://api.eia.gov/series/?api_key=\" + api_key + \"&series_id=STEO.NUTO_US.A\") #nuclear_fuel_url\n",
    "electric_generation_urls.append(\"http://api.eia.gov/series/?api_key=\" + api_key + \"&series_id=STEO.OGTO_US.A\") #other_gases_url\n",
    "electric_generation_urls.append(\"http://api.eia.gov/series/?api_key=\" + api_key + \"&series_id=STEO.OTTO_US.A\") #othet_nonrenewable_url\n",
    "electric_generation_urls.append(\"http://api.eia.gov/series/?api_key=\" + api_key + \"&series_id=STEO.HPTO_US.A\") #pumped_hydropower_url\n",
    "electric_generation_urls.append(\"http://api.eia.gov/series/?api_key=\" + api_key + \"&series_id=STEO.TSEO_US.A\") #us_annual_total_url\n",
    "electric_generation_urls.append(\"http://api.eia.gov/series/?api_key=\" + api_key + \"&series_id=STEO.RNTO_US.A\") #Renewable Supply\n"
   ]
  },
  {
   "cell_type": "code",
   "execution_count": 4,
   "metadata": {},
   "outputs": [
    {
     "ename": "KeyError",
     "evalue": "'series'",
     "output_type": "error",
     "traceback": [
      "\u001b[1;31m---------------------------------------------------------------------------\u001b[0m",
      "\u001b[1;31mKeyError\u001b[0m                                  Traceback (most recent call last)",
      "\u001b[1;32m<ipython-input-4-d60a468f0458>\u001b[0m in \u001b[0;36m<module>\u001b[1;34m\u001b[0m\n\u001b[0;32m      7\u001b[0m     \u001b[0mgeneration_Capacity\u001b[0m\u001b[1;33m.\u001b[0m\u001b[0mappend\u001b[0m\u001b[1;33m(\u001b[0m\u001b[1;33m[\u001b[0m\u001b[1;33m]\u001b[0m\u001b[1;33m)\u001b[0m\u001b[1;33m\u001b[0m\u001b[1;33m\u001b[0m\u001b[0m\n\u001b[0;32m      8\u001b[0m     \u001b[0mgeneration_years\u001b[0m\u001b[1;33m.\u001b[0m\u001b[0mappend\u001b[0m\u001b[1;33m(\u001b[0m\u001b[1;33m[\u001b[0m\u001b[1;33m]\u001b[0m\u001b[1;33m)\u001b[0m\u001b[1;33m\u001b[0m\u001b[1;33m\u001b[0m\u001b[0m\n\u001b[1;32m----> 9\u001b[1;33m     \u001b[1;32mfor\u001b[0m \u001b[0mresponse\u001b[0m \u001b[1;32min\u001b[0m \u001b[0mgeneration_response\u001b[0m\u001b[1;33m[\u001b[0m\u001b[1;34m\"series\"\u001b[0m\u001b[1;33m]\u001b[0m\u001b[1;33m[\u001b[0m\u001b[1;36m0\u001b[0m\u001b[1;33m]\u001b[0m\u001b[1;33m[\u001b[0m\u001b[1;34m\"data\"\u001b[0m\u001b[1;33m]\u001b[0m\u001b[1;33m:\u001b[0m\u001b[1;33m\u001b[0m\u001b[1;33m\u001b[0m\u001b[0m\n\u001b[0m\u001b[0;32m     10\u001b[0m         \u001b[0mgeneration_Capacity\u001b[0m\u001b[1;33m[\u001b[0m\u001b[0mi\u001b[0m\u001b[1;33m]\u001b[0m\u001b[1;33m.\u001b[0m\u001b[0mappend\u001b[0m\u001b[1;33m(\u001b[0m\u001b[0mresponse\u001b[0m\u001b[1;33m[\u001b[0m\u001b[1;36m1\u001b[0m\u001b[1;33m]\u001b[0m\u001b[1;33m)\u001b[0m\u001b[1;33m\u001b[0m\u001b[1;33m\u001b[0m\u001b[0m\n\u001b[0;32m     11\u001b[0m         \u001b[0mgeneration_years\u001b[0m\u001b[1;33m[\u001b[0m\u001b[0mi\u001b[0m\u001b[1;33m]\u001b[0m\u001b[1;33m.\u001b[0m\u001b[0mappend\u001b[0m\u001b[1;33m(\u001b[0m\u001b[0mresponse\u001b[0m\u001b[1;33m[\u001b[0m\u001b[1;36m0\u001b[0m\u001b[1;33m]\u001b[0m\u001b[1;33m)\u001b[0m\u001b[1;33m\u001b[0m\u001b[1;33m\u001b[0m\u001b[0m\n",
      "\u001b[1;31mKeyError\u001b[0m: 'series'"
     ]
    }
   ],
   "source": [
    "generation_Capacity = []\n",
    "generation_years = []\n",
    "i = 0\n",
    "\n",
    "for electric_url in electric_generation_urls:\n",
    "    generation_response = requests.get(electric_url).json()\n",
    "    generation_Capacity.append([])\n",
    "    generation_years.append([])\n",
    "    for response in generation_response[\"series\"][0][\"data\"]:\n",
    "        generation_Capacity[i].append(response[1])\n",
    "        generation_years[i].append(response[0])\n",
    "    generation_Capacity[i] = generation_Capacity[i][::-1]\n",
    "    generation_years[i] = generation_years[i][::-1]\n",
    "    i += 1"
   ]
  },
  {
   "cell_type": "code",
   "execution_count": null,
   "metadata": {},
   "outputs": [],
   "source": [
    "electric_generation_df = pd.DataFrame({\n",
    "    'years' : generation_years[0],\n",
    "    'Coal' : generation_Capacity[0],    \n",
    "    'Hydro Power' : generation_Capacity[1],\n",
    "    'Natural Gas' : generation_Capacity[2],\n",
    "    'Nuclear Fuel' : generation_Capacity[3],\n",
    "    #'Other Gases' : generation_Capacity[4],\n",
    "    #Other Non Renewables' : generation_Capacity[5],\n",
    "    #'Pumped Hydro Power' : generation_Capacity[6],\n",
    "    #'Total Generation' : generation_Capacity[7]\n",
    "    'Renewable Supply' : generation_Capacity[8]\n",
    "    \n",
    "})\n",
    "electric_generation_df = electric_generation_df.set_index('years')\n",
    "\n",
    "electric_generation_df"
   ]
  },
  {
   "cell_type": "code",
   "execution_count": null,
   "metadata": {},
   "outputs": [],
   "source": [
    "\n",
    "\n",
    "ax = electric_generation_df.plot( kind='line',linewidth=5, figsize=(20,10), title = 'US Electrical Generation Energy Supply')\n",
    "\n",
    "ax.set_ylabel(\"Mega Watts\")\n",
    "ax.set_xlabel(\"years\")\n",
    "ax.grid(True)\n",
    "plt.savefig(\"output/Total_electric_generation.png\")"
   ]
  },
  {
   "cell_type": "code",
   "execution_count": null,
   "metadata": {},
   "outputs": [],
   "source": [
    "#Create a Pie Chart for 1990\n",
    "# Labels for the sections of our pie chart\n",
    "labels = [\"Coal\", \"Hydro\", \"Natural Gas\", \"Nuclear Fuel\",   \"Renewable Supply (non Hydro)\"]\n",
    "\n",
    "# The values of each section of the pie chart\n",
    "sizes = electric_generation_df.iloc[0]\n",
    "# The colors of each section of the pie chart\n",
    "#colors = [\"red\", \"orange\", \"lightcoral\", \"lightskyblue\"]\n",
    "\n",
    "# Tells matplotlib to seperate the \"Python\" section from the others\n",
    "explode = (0, 0, 0, 0, 0.1)\n",
    "\n",
    "\n",
    "plt.pie(sizes, autopct=\"%1.1f%%\", explode=explode, shadow=True, startangle=140, labels = labels)\n",
    "\n",
    "fig = plt.gcf()\n",
    "fig.set_size_inches(12,12)\n",
    "\n",
    "plt.title(\"Total Electrical Supply in 1990\")\n",
    "\n",
    "plt.show()\n",
    "#plt.axis(\"equal\")\n",
    "plt.savefig(\"output/TotalElectricalSupply1990.png\")"
   ]
  },
  {
   "cell_type": "code",
   "execution_count": null,
   "metadata": {},
   "outputs": [],
   "source": [
    "sizes = electric_generation_df.iloc[29]\n",
    "sizes\n",
    "# The colors of each section of the pie chart\n",
    "#colors = [\"red\", \"orange\", \"lightcoral\", \"lightskyblue\"]\n",
    "\n",
    "# Tells matplotlib to seperate the \"Python\" section from the others\n",
    "#explode = (0.1, 0, 0, 0)\n",
    "\n",
    "plt.pie(sizes, autopct=\"%1.1f%%\", explode = explode, shadow=True, startangle=140, labels = labels)\n",
    "\n",
    "fig = plt.gcf()\n",
    "fig.set_size_inches(12,12)\n",
    "\n",
    "plt.title(\"Total Electrical Supply in 2020 (Est..)\")\n",
    "\n",
    "plt.show()\n",
    "plt.axis(\"equal\")\n",
    "plt.savefig(\"output/TotalElectricalSupply2020.png\")"
   ]
  },
  {
   "cell_type": "code",
   "execution_count": null,
   "metadata": {},
   "outputs": [],
   "source": [
    "# US Renewable Energy Supply\n",
    "\n",
    "renewable_urls = []\n",
    "renewable_Net_Capacity = []\n",
    "renewable_years = []\n",
    "i = 0\n",
    "\n",
    "renewable_urls.append(\"http://api.eia.gov/series/?api_key=\" + api_key + \"&series_id=STEO.WNEPCAPX_US.A\")\n",
    "renewable_urls.append(\"http://api.eia.gov/series/?api_key=\" + api_key + \"&series_id=STEO.SOEPCAPX_US.A\")\n",
    "renewable_urls.append(\"http://api.eia.gov/series/?api_key=\" + api_key + \"&series_id=STEO.GEEPCAP_US.A\")\n",
    "renewable_urls.append(\"http://api.eia.gov/series/?api_key=\" + api_key + \"&series_id=STEO.HVEPCAP_US.A\")\n",
    "\n",
    "for renew_url in renewable_urls:\n",
    "    renewable_response = requests.get(renew_url).json()\n",
    "    #renewable_Net_Capacity.append(i)\n",
    "    renewable_Net_Capacity.append([])\n",
    "    renewable_years.append([])\n",
    "    for response in renewable_response[\"series\"][0][\"data\"]:\n",
    "        renewable_Net_Capacity[i].append(response[1])\n",
    "        renewable_years[i].append(response[0])\n",
    "    renewable_Net_Capacity[i] = renewable_Net_Capacity[i][::-1]\n",
    "    renewable_years[i] = renewable_years[i][::-1]\n",
    "    #print(len(renewable_Net_Capacity[i]))\n",
    "    i += 1\n",
    "\n",
    "\n",
    "    "
   ]
  },
  {
   "cell_type": "code",
   "execution_count": null,
   "metadata": {},
   "outputs": [],
   "source": [
    "#renewable_Net_Capacity"
   ]
  },
  {
   "cell_type": "code",
   "execution_count": null,
   "metadata": {},
   "outputs": [],
   "source": [
    "plt.figure(figsize=(20,10))\n",
    "plt.plot(renewable_years[0], renewable_Net_Capacity[0], label=\"Wind Power\", linewidth=5, linestyle = ':')\n",
    "plt.plot(renewable_years[0], renewable_Net_Capacity[1], label=\"Solar Power\", linewidth=5, linestyle = '-.')\n",
    "plt.plot(renewable_years[0], renewable_Net_Capacity[2], label=\"Geo Thermal\", linewidth=5,  linestyle = '--')\n",
    "plt.plot(renewable_years[0], renewable_Net_Capacity[3], label=\"Hydro Electric\", linewidth=5)\n",
    "plt.xlabel(\"Years\")\n",
    "plt.ylabel(\"Mega Watts\")\n",
    "plt.title(\"Electric Renewable Supply\")\n",
    "\n",
    "plt.legend()\n",
    "plt.grid(True)\n",
    "\n",
    "plt.savefig(\"output/Electric_Renewable_Supply.png\")"
   ]
  },
  {
   "cell_type": "code",
   "execution_count": null,
   "metadata": {},
   "outputs": [],
   "source": [
    "\n",
    "renewable_supply_df = pd.DataFrame({\n",
    "    'years' : renewable_years[0],\n",
    "    'Hydro Electric' : renewable_Net_Capacity[3],    \n",
    "    'Wind Power' : renewable_Net_Capacity[0],\n",
    "    'Geo Thermal' : renewable_Net_Capacity[2],\n",
    "    'Solar Power' : renewable_Net_Capacity[1]\n",
    "    \n",
    "})\n",
    "\n",
    "renewable_supply_df.head()\n",
    "\n",
    "renewable_supply_df = renewable_supply_df.set_index('years')\n",
    "\n",
    "ax = renewable_supply_df.plot(kind='bar', stacked=True, figsize=(20,10), title = 'US Renewable Energy Supply')\n",
    "\n",
    "ax.title()\n",
    "ax.set_ylabel(\"Mega Watts\")\n",
    "ax.set_xlabel(\"Years\")\n",
    "plt.savefig(\"output/Renewable_Supply_Bar.png\")"
   ]
  },
  {
   "cell_type": "code",
   "execution_count": null,
   "metadata": {},
   "outputs": [],
   "source": [
    "renewable_supply_df.to_csv(\"resources/renewable_supply.csv\")\n",
    "electric_generation_df.to_csv(\"resources/electrical_generation.csv\")"
   ]
  },
  {
   "cell_type": "code",
   "execution_count": null,
   "metadata": {},
   "outputs": [],
   "source": [
    "def percent_change_cal(capacity, percent_change):\n",
    "    i = 0\n",
    "    for supply in capacity:\n",
    "        if(i == 0):\n",
    "            percent_change.append(0)\n",
    "        else:\n",
    "            percent_change.append((supply - capacity[i - 1]) / capacity[i - 1] * 100)\n",
    "        i += 1\n",
    "\n",
    "solar_percent_change = []\n",
    "hydro_percent_change = []\n",
    "wind_percent_change = []\n",
    "geo_percent_change = []\n",
    "percent_change_cal(renewable_Net_Capacity[1], solar_percent_change)\n",
    "percent_change_cal(renewable_Net_Capacity[3], hydro_percent_change)\n",
    "percent_change_cal(renewable_Net_Capacity[0], wind_percent_change)\n",
    "percent_change_cal(renewable_Net_Capacity[2], geo_percent_change)\n",
    "\n",
    "\n",
    "renewable_percent_change_df = pd.DataFrame({\n",
    "    'years' : renewable_years[0],\n",
    "    'Solar % Change' : solar_percent_change,\n",
    "    'Hydro % Change' : hydro_percent_change,\n",
    "    'Wind % Change' : wind_percent_change,\n",
    "    'Geo % Change' : geo_percent_change\n",
    "})\n",
    "\n",
    "renewable_percent_change_df = renewable_percent_change_df.set_index('years')"
   ]
  },
  {
   "cell_type": "code",
   "execution_count": null,
   "metadata": {},
   "outputs": [],
   "source": [
    "def plotPercentText():\n",
    "    for year in renewable_years[0]:\n",
    "        renewable_change_ax.text(int(year) - 2001, int(renewable_percent_change_df[\"Solar % Change\"][year]) + 10, renewable_percent_change_df[\"Solar % Change\"][year], backgroundcolor=\"white\", ha='center', va='top', weight='bold', color='blue')\n",
    "\n",
    "\n",
    "renewable_change_ax = renewable_percent_change_df.plot(kind='bar', stacked=True, figsize=(20,10), title = 'Renewable Supply Change')\n",
    "\n",
    "renewable_percent_change_df = renewable_percent_change_df.applymap(\"{0:.2f} %\".format)\n",
    "renewable_change_ax.set_ylabel(\"Mega Watts\")\n",
    "renewable_change_ax.set_xlabel(\"Years\")\n",
    "renewable_change_ax.set_ylim(-20, 160)\n",
    "plotPercentText()\n",
    "\n",
    "plt.savefig(\"output/Renewable_Supply_change_Bar.png\")"
   ]
  },
  {
   "cell_type": "code",
   "execution_count": null,
   "metadata": {},
   "outputs": [],
   "source": [
    "electric_generation_df.head()"
   ]
  },
  {
   "cell_type": "code",
   "execution_count": null,
   "metadata": {},
   "outputs": [],
   "source": [
    "coal_supply_percent_change = []\n",
    "hydro_supply_percent_change = []\n",
    "natural_gas_percent_change = []\n",
    "Nuclear_fuel_percent_change = []\n",
    "Pumped_hydro_percent_change = []\n",
    "renewable_percent_change = []\n",
    "\n",
    "percent_change_cal(electric_generation_df['Coal'], coal_supply_percent_change)\n",
    "percent_change_cal(electric_generation_df['Hydro Power'], hydro_supply_percent_change)\n",
    "percent_change_cal(electric_generation_df['Natural Gas'], natural_gas_percent_change)\n",
    "percent_change_cal(electric_generation_df['Nuclear Fuel'], Nuclear_fuel_percent_change)\n",
    "#percent_change_cal(electric_generation_df['Pumped Hydro Power'], Pumped_hydro_percent_change)\n",
    "percent_change_cal(electric_generation_df['Renewable Supply'], renewable_percent_change)\n",
    "\n",
    "#percent_change_cal(renewable_Net_Capacity[3], hydro_percent_change)\n",
    "#percent_change_cal(renewable_Net_Capacity[0], wind_percent_change)\n",
    "#percent_change_cal(renewable_Net_Capacity[2], geo_percent_change)\n",
    "print(electric_generation_df.index.values)\n",
    "#hydro_supply_percent_change\n"
   ]
  },
  {
   "cell_type": "code",
   "execution_count": null,
   "metadata": {},
   "outputs": [],
   "source": [
    "electric_supply_percent_change_df = pd.DataFrame({\n",
    "    'years' : electric_generation_df.index.values,\n",
    "    'Coal % Change' : coal_supply_percent_change,\n",
    "    'Hydro % Change' : hydro_supply_percent_change,\n",
    "    'Natural Gas % Change' : natural_gas_percent_change,\n",
    "    'Nuclear Fuel % Change' : Nuclear_fuel_percent_change,\n",
    "    'Renewable Supply % Change' : renewable_percent_change,\n",
    "})\n",
    "\n",
    "electric_supply_percent_change_df = electric_supply_percent_change_df.set_index('years')"
   ]
  },
  {
   "cell_type": "code",
   "execution_count": null,
   "metadata": {},
   "outputs": [],
   "source": [
    "\n",
    "electric_supply_change_ax = electric_supply_percent_change_df.plot(kind='bar', stacked=True, figsize=(20,10), title = 'Electric Supply Change')\n",
    "\n",
    "electric_supply_change_ax.set_ylabel(\"Mega Watts\")\n",
    "electric_supply_change_ax.set_xlabel(\"Years\")\n",
    "electric_supply_change_ax.set_ylim(-20, 80)\n",
    "plt.savefig(\"output/Total_Supply_change_Bar.png\")"
   ]
  },
  {
   "cell_type": "code",
   "execution_count": null,
   "metadata": {},
   "outputs": [],
   "source": [
    "coal_min_supply_value = electric_supply_percent_change_df[\"Coal % Change\"].min()\n",
    "coal_min_supply_year = int(electric_supply_percent_change_df[electric_supply_percent_change_df[\"Coal % Change\"]==coal_min_supply_value].index.values)\n",
    "coal_max_supply_value = electric_supply_percent_change_df[\"Coal % Change\"].max()\n",
    "coal_max_supply_year = int(electric_supply_percent_change_df[electric_supply_percent_change_df[\"Coal % Change\"]==coal_max_supply_value].index.values)\n",
    "\n",
    "# find the difference between most and least emissions\n",
    "coal_supply_change = (coal_max_supply_value - coal_min_supply_value)\n",
    "\n",
    "#find the percentage change from lowest year to highest year\n",
    "total_coal_percent_change = (coal_supply_change / coal_min_supply_value) *100\n",
    "\n",
    "print(f\"{coal_min_supply_year} had the least amount of coal generation with {coal_min_supply_value} million meric tons.\")\n",
    "print(f\"{int(coal_max_supply_year)} has the most amount of total coal generation with {coal_max_supply_value} million meric tons.\")\n",
    "print(f\"The difference in total coal generation from 1991 and 2007 is {coal_supply_change} million metric tons.\")\n",
    "print(f\"The percentage change in coal generation from the lowest year to highest year is {total_coal_percent_change}%\")"
   ]
  },
  {
   "cell_type": "code",
   "execution_count": null,
   "metadata": {},
   "outputs": [],
   "source": [
    "def percentAnalysis(customDataFrame, columnName, fuelName, fuelUnits):\n",
    "    min_supply_value = customDataFrame[columnName].min()\n",
    "    min_supply_year = int(customDataFrame[customDataFrame[columnName]==min_supply_value].index.values)\n",
    "    max_supply_value = customDataFrame[columnName].max()\n",
    "    max_supply_year = int(customDataFrame[customDataFrame[columnName]==max_supply_value].index.values)\n",
    "\n",
    "    # find the difference between most and least emissions\n",
    "    total_supply_change = (max_supply_value - min_supply_value)\n",
    "\n",
    "    #find the percentage change from lowest year to highest year\n",
    "    total_percent_change = (total_supply_change / min_supply_value) *100\n",
    "\n",
    "    print(f\"{min_supply_year} had the least amount of {fuelName} generation with {min_supply_value} {fuelUnits}.\")\n",
    "    print(f\"{int(max_supply_year)} has the most amount of total {fuelName} generation with {max_supply_value} {fuelUnits}.\")\n",
    "    print(f\"The difference in total {fuelName} generation from {min_supply_year} and {max_supply_year} is {total_supply_change} {fuelUnits}.\")\n",
    "    print(f\"The percentage change in {fuelName} generation from the lowest year to highest year is {total_percent_change}%\")\n",
    "    \n",
    "percentAnalysis(electric_generation_df, \"Coal\", \"Coal\", \"Mega Watts\")\n",
    "percentAnalysis(electric_generation_df, \"Hydro Power\", \"Hydro Power\", \"Mega Watts\")\n",
    "percentAnalysis(electric_generation_df, \"Natural Gas\", \"Natural Gas\", \"Mega Watts\")\n",
    "percentAnalysis(electric_generation_df, \"Nuclear Fuel\", \"Nuclear Fuel\", \"Mega Watts\")\n",
    "percentAnalysis(electric_generation_df, \"Renewable Supply\", \"Renewable Supply\", \"Mega Watts\")\n",
    "\n",
    "\n",
    "#percentAnalysis(electric_generation_df, \"Hydro % Change\", \"Hydro\")"
   ]
  },
  {
   "cell_type": "code",
   "execution_count": null,
   "metadata": {},
   "outputs": [],
   "source": [
    "percentAnalysis(renewable_supply_df, \"Hydro Electric\", \"Hydro Electric\", \"Mega Watts\")\n",
    "percentAnalysis(renewable_supply_df, \"Wind Power\", \"Wind Power\", \"Mega Watts\")\n",
    "percentAnalysis(renewable_supply_df, \"Geo Thermal\", \"Geo Thermal\", \"Mega Watts\")\n",
    "percentAnalysis(renewable_supply_df, \"Solar Power\", \"Solar Power\", \"Mega Watts\")"
   ]
  },
  {
   "cell_type": "code",
   "execution_count": null,
   "metadata": {},
   "outputs": [],
   "source": []
  }
 ],
 "metadata": {
  "kernelspec": {
   "display_name": "Python 3",
   "language": "python",
   "name": "python3"
  },
  "language_info": {
   "codemirror_mode": {
    "name": "ipython",
    "version": 3
   },
   "file_extension": ".py",
   "mimetype": "text/x-python",
   "name": "python",
   "nbconvert_exporter": "python",
   "pygments_lexer": "ipython3",
   "version": "3.7.1"
  }
 },
 "nbformat": 4,
 "nbformat_minor": 2
}
